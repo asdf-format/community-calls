{
 "cells": [
  {
   "cell_type": "markdown",
   "id": "86db8b9f-ca32-434b-bba3-4ee53d6efac5",
   "metadata": {},
   "source": [
    "# Opening ASDF files\n",
    "ASDF files contain a human-readable header and optionally one or more binary \"blocks\". The most widely supported library for opening ASDF files is the python asdf library: https://github.com/asdf-format/asdf installable via pip."
   ]
  },
  {
   "cell_type": "code",
   "execution_count": null,
   "id": "6276b3f9-d865-46fe-91d1-088cfa99d95a",
   "metadata": {},
   "outputs": [],
   "source": [
    "!pip install asdf"
   ]
  },
  {
   "cell_type": "markdown",
   "id": "e1fddd22-54bb-47cd-8603-3487d00e67d7",
   "metadata": {},
   "source": [
    "## asdf.open\n",
    "\n",
    "Let's open one of the example files with [asdf.open](https://asdf.readthedocs.io/en/latest/api/asdf.open.html)."
   ]
  },
  {
   "cell_type": "code",
   "execution_count": null,
   "id": "ed62f445-203b-4a61-a86c-5a3d8bfa6c11",
   "metadata": {},
   "outputs": [],
   "source": [
    "import asdf\n",
    "af = asdf.open(\"basic.asdf\")\n",
    "print(af)"
   ]
  },
  {
   "cell_type": "markdown",
   "id": "f1e845e9-511d-4ed7-8f66-ab818729b9b5",
   "metadata": {},
   "source": [
    "## AsdfFile\n",
    "\n",
    "[asdf.open](https://asdf.readthedocs.io/en/latest/api/asdf.open.html) returns an [AsdfFile](https://asdf.readthedocs.io/en/latest/api/asdf.AsdfFile.html) instance which can be used like a dictionary. Let's first see what top-level keys exist in this file."
   ]
  },
  {
   "cell_type": "code",
   "execution_count": null,
   "id": "47b9845e-fbed-49f1-85e1-9c90b6a356b4",
   "metadata": {},
   "outputs": [],
   "source": [
    "print(list(af.keys()))"
   ]
  },
  {
   "cell_type": "markdown",
   "id": "58bfe3ed-4fb0-46ba-82b2-c8bd2c71a06d",
   "metadata": {},
   "source": [
    "## File contents\n",
    "\n",
    "`asdf_library` and `history` are in most files and contain information about what produced the file. For our example file we also have `my_arrays` and `my_mapping` keys (which aren't required but exist in this file). Let's look at the value for `my_mapping`:"
   ]
  },
  {
   "cell_type": "code",
   "execution_count": null,
   "id": "baf56346-273e-41b9-8fbb-f142ead72ab8",
   "metadata": {},
   "outputs": [],
   "source": [
    "af[\"my_mapping\"]"
   ]
  },
  {
   "cell_type": "markdown",
   "id": "b848b5ed-b115-4fab-b83f-c675c80dca27",
   "metadata": {},
   "source": [
    "## The ASDF \"tree\"\n",
    "\n",
    "As seen above since ASDF is a heirarchical file format. Accessing some data may require climbing the ASDF \"tree\"."
   ]
  },
  {
   "cell_type": "code",
   "execution_count": null,
   "id": "76ae77a0-9a2a-47d4-974f-bb37b7bbea13",
   "metadata": {},
   "outputs": [],
   "source": [
    "af[\"my_mapping\"][\"b\"][\"nested\"]"
   ]
  },
  {
   "cell_type": "markdown",
   "id": "ae83c16d-8c14-481b-a24a-d6922af338d7",
   "metadata": {},
   "source": [
    "## Rich objects\n",
    "\n",
    "In addition to basic types (strings, ints, floats, dicts and lists) ASDF supports saving \"rich\" objects. One example is [NDArrayType](https://asdf.readthedocs.io/en/latest/api/asdf.tags.core.NDArrayType.html) which is used for n-dimensional arrays. These can mostly be treated the same as numpy ndarrays. If we inspect `my_arrays` we'll find 2 under `my_arrays`."
   ]
  },
  {
   "cell_type": "code",
   "execution_count": null,
   "id": "570d5e49-fb80-40fe-97aa-e2c6e11ae500",
   "metadata": {},
   "outputs": [],
   "source": [
    "af[\"my_arrays\"]"
   ]
  },
  {
   "cell_type": "markdown",
   "id": "a5a5dff5-9640-4113-99fc-5ff536ed6bc5",
   "metadata": {},
   "source": [
    "## \"lazy\" loading\n",
    "\n",
    "To improve performance, asdf (by default) will \"lazy load\" array data only when it's accessed (this can be disabled by passing `lazy_load=False` to [asdf.open](https://asdf.readthedocs.io/en/latest/api/asdf.open.html)."
   ]
  },
  {
   "cell_type": "code",
   "execution_count": null,
   "id": "5ba0b911-418f-4cd7-a4cc-9e00ccf9c2ab",
   "metadata": {},
   "outputs": [],
   "source": [
    "af[\"my_arrays\"][\"data\"] - af[\"my_arrays\"][\"err\"]  # remove error from our data"
   ]
  }
 ],
 "metadata": {
  "kernelspec": {
   "display_name": "Python 3 (ipykernel)",
   "language": "python",
   "name": "python3"
  },
  "language_info": {
   "codemirror_mode": {
    "name": "ipython",
    "version": 3
   },
   "file_extension": ".py",
   "mimetype": "text/x-python",
   "name": "python",
   "nbconvert_exporter": "python",
   "pygments_lexer": "ipython3",
   "version": "3.10.6"
  }
 },
 "nbformat": 4,
 "nbformat_minor": 5
}
